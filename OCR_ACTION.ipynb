{
  "nbformat": 4,
  "nbformat_minor": 0,
  "metadata": {
    "colab": {
      "provenance": []
    },
    "kernelspec": {
      "name": "python3",
      "display_name": "Python 3"
    },
    "language_info": {
      "name": "python"
    }
  },
  "cells": [
    {
      "cell_type": "code",
      "source": [
        "from google import genai\n",
        "from google.genai import types\n",
        "\n",
        "client = genai.Client(api_key=\"YOUR_API_KEY\")"
      ],
      "metadata": {
        "id": "C1Cj88m781_9"
      },
      "execution_count": null,
      "outputs": []
    },
    {
      "cell_type": "code",
      "source": [
        "model_name = \"gemini-2.0-flash\" # @param [\"gemini-1.5-flash-latest\",\"gemini-2.0-flash-lite\",\"gemini-2.0-flash\",\"gemini-2.0-pro-exp-02-05\"] {\"allow-input\":true}"
      ],
      "metadata": {
        "id": "cgNuzlEa85yz"
      },
      "execution_count": null,
      "outputs": []
    },
    {
      "cell_type": "code",
      "execution_count": null,
      "metadata": {
        "id": "Doy8P9hy8Lfy"
      },
      "outputs": [],
      "source": [
        "def extracted_text(path):\n",
        "  image = PIL.Image.open(path)\n",
        "  response = client.models.generate_content(\n",
        "    model=\"gemini-2.0-flash\",\n",
        "    contents=[\"Extract text from the image \", image])\n",
        "\n",
        "  # print(response.text)\n",
        "  with open(\"extracted_text.txt\", \"w\", encoding=\"utf-8\") as file:\n",
        "      file.write(response.text)\n",
        "  print(\"Text extraction completed and saved to extracted_text.txt\")\n",
        "  with open(\"extracted_text.txt\", \"r\", encoding=\"utf-8\") as file:\n",
        "      text_content = file.read()\n",
        "  print(text_content)"
      ]
    }
  ]
}